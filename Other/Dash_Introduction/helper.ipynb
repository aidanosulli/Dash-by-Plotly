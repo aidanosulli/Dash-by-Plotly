{
 "cells": [
  {
   "cell_type": "code",
   "execution_count": 5,
   "metadata": {},
   "outputs": [],
   "source": [
    "import pandas as pd\n",
    "import numpy as np"
   ]
  },
  {
   "cell_type": "code",
   "execution_count": 6,
   "metadata": {},
   "outputs": [],
   "source": [
    "df = pd.read_csv(\"intro_bees.csv\")"
   ]
  },
  {
   "cell_type": "code",
   "execution_count": 12,
   "metadata": {},
   "outputs": [
    {
     "name": "stdout",
     "output_type": "stream",
     "text": [
      "'label' : 'Minnesota', 'value' : 'Minnesota'\n",
      "'label' : 'Mississippi', 'value' : 'Mississippi'\n",
      "'label' : 'Missouri', 'value' : 'Missouri'\n",
      "'label' : 'Montana', 'value' : 'Montana'\n",
      "'label' : 'Nebraska', 'value' : 'Nebraska'\n",
      "'label' : 'New Jersey', 'value' : 'New Jersey'\n",
      "'label' : 'New Mexico', 'value' : 'New Mexico'\n",
      "'label' : 'New York', 'value' : 'New York'\n",
      "'label' : 'North Carolina', 'value' : 'North Carolina'\n",
      "'label' : 'North Dakota', 'value' : 'North Dakota'\n",
      "'label' : 'Ohio', 'value' : 'Ohio'\n",
      "'label' : 'Oklahoma', 'value' : 'Oklahoma'\n",
      "'label' : 'Oregon', 'value' : 'Oregon'\n",
      "'label' : 'Pennsylvania', 'value' : 'Pennsylvania'\n",
      "'label' : 'South Carolina', 'value' : 'South Carolina'\n",
      "'label' : 'South Dakota', 'value' : 'South Dakota'\n",
      "'label' : 'Tennessee', 'value' : 'Tennessee'\n",
      "'label' : 'Texas', 'value' : 'Texas'\n",
      "'label' : 'Utah', 'value' : 'Utah'\n",
      "'label' : 'Vermont', 'value' : 'Vermont'\n",
      "'label' : 'Virginia', 'value' : 'Virginia'\n",
      "'label' : 'Washington', 'value' : 'Washington'\n",
      "'label' : 'West Virginia', 'value' : 'West Virginia'\n",
      "'label' : 'Wisconsin', 'value' : 'Wisconsin'\n",
      "'label' : 'Wyoming', 'value' : 'Wyoming'\n"
     ]
    }
   ],
   "source": [
    "df2 = df.drop_duplicates(subset=['State'])\n",
    "\n",
    "for state in df2.iloc[20:50]['State']:\n",
    "    print(f\"'label' : '{state}', 'value' : '{state}'\")"
   ]
  },
  {
   "cell_type": "code",
   "execution_count": null,
   "metadata": {},
   "outputs": [],
   "source": []
  }
 ],
 "metadata": {
  "language_info": {
   "name": "python"
  },
  "orig_nbformat": 4
 },
 "nbformat": 4,
 "nbformat_minor": 2
}
